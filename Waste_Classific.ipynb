{
 "cells": [
  {
   "cell_type": "code",
   "execution_count": 1,
   "metadata": {},
   "outputs": [],
   "source": [
    "import numpy as np\n",
    "import matplotlib.pyplot as plt\n",
    "import pandas as pd\n",
    "import tensorflow as tf"
   ]
  },
  {
   "cell_type": "code",
   "execution_count": 2,
   "metadata": {},
   "outputs": [],
   "source": [
    "from keras.preprocessing.image import ImageDataGenerator\n",
    "data_gen=ImageDataGenerator(rescale=1./255,\n",
    "                            shear_range=0.2,\n",
    "                            zoom_range=0.2,\n",
    "                            horizontal_flip=True)"
   ]
  },
  {
   "cell_type": "code",
   "execution_count": 3,
   "metadata": {},
   "outputs": [
    {
     "name": "stdout",
     "output_type": "stream",
     "text": [
      "Found 1768 images belonging to 6 classes.\n",
      "Found 328 images belonging to 6 classes.\n"
     ]
    }
   ],
   "source": [
    "data_path=\"split-garbage-dataset\"\n",
    "\n",
    "train_gen=data_gen.flow_from_directory(data_path + '/train',\n",
    "                                             target_size=(224,224),\n",
    "                                             batch_size=64,\n",
    "                                             class_mode='categorical')\n",
    "val_datagen = ImageDataGenerator(rescale = 1./255)\n",
    "val_gen=val_datagen.flow_from_directory(data_path + '/valid',\n",
    "                                             target_size=(224,224),\n",
    "                                             batch_size=1,\n",
    "                                             class_mode='categorical',\n",
    "                                             shuffle=False)"
   ]
  },
  {
   "cell_type": "code",
   "execution_count": 4,
   "metadata": {},
   "outputs": [],
   "source": [
    "from tensorflow.keras.models import Sequential\n",
    "from tensorflow.keras.layers import Dense\n",
    "from tensorflow.keras.regularizers import l2\n",
    "from tensorflow.keras.applications.resnet_v2 import ResNet101V2, preprocess_input\n",
    "\n",
    "model = Sequential([ResNet101V2(include_top=False,\n",
    "                             weights='imagenet',\n",
    "                             pooling='avg'),\n",
    "                    Dense(6, kernel_regularizer=tf.keras.regularizers.l2(0.01),activation='softmax')])\n",
    "model.layers[0].trainable = False"
   ]
  },
  {
   "cell_type": "code",
   "execution_count": 5,
   "metadata": {},
   "outputs": [],
   "source": [
    "opt=tf.keras.optimizers.SGD(learning_rate=0.01, momentum=0.9)"
   ]
  },
  {
   "cell_type": "code",
   "execution_count": 6,
   "metadata": {},
   "outputs": [],
   "source": [
    "model.compile(optimizer = opt,\n",
    "              loss='squared_hinge',\n",
    "              metrics=['accuracy'])\n",
    "\n"
   ]
  },
  {
   "cell_type": "code",
   "execution_count": 7,
   "metadata": {},
   "outputs": [
    {
     "name": "stdout",
     "output_type": "stream",
     "text": [
      "Model: \"sequential\"\n",
      "_________________________________________________________________\n",
      "Layer (type)                 Output Shape              Param #   \n",
      "=================================================================\n",
      "resnet101v2 (Functional)     (None, 2048)              42626560  \n",
      "_________________________________________________________________\n",
      "dense (Dense)                (None, 6)                 12294     \n",
      "=================================================================\n",
      "Total params: 42,638,854\n",
      "Trainable params: 12,294\n",
      "Non-trainable params: 42,626,560\n",
      "_________________________________________________________________\n"
     ]
    }
   ],
   "source": [
    "model.summary()"
   ]
  },
  {
   "cell_type": "code",
   "execution_count": 8,
   "metadata": {},
   "outputs": [
    {
     "name": "stdout",
     "output_type": "stream",
     "text": [
      "Epoch 1/12\n",
      "28/28 [==============================] - 258s 9s/step - loss: 1.2486 - accuracy: 0.4938 - val_loss: 1.1298 - val_accuracy: 0.7287\n",
      "Epoch 2/12\n",
      "28/28 [==============================] - 324s 12s/step - loss: 1.1084 - accuracy: 0.7477 - val_loss: 1.0976 - val_accuracy: 0.7530\n",
      "Epoch 3/12\n",
      "28/28 [==============================] - 367s 13s/step - loss: 1.0768 - accuracy: 0.7924 - val_loss: 1.0761 - val_accuracy: 0.7957\n",
      "Epoch 4/12\n",
      "28/28 [==============================] - 362s 13s/step - loss: 1.0532 - accuracy: 0.8162 - val_loss: 1.0662 - val_accuracy: 0.7927\n",
      "Epoch 5/12\n",
      "28/28 [==============================] - 360s 13s/step - loss: 1.0394 - accuracy: 0.8281 - val_loss: 1.0454 - val_accuracy: 0.8201\n",
      "Epoch 6/12\n",
      "28/28 [==============================] - 361s 13s/step - loss: 1.0225 - accuracy: 0.8507 - val_loss: 1.0352 - val_accuracy: 0.8171\n",
      "Epoch 7/12\n",
      "28/28 [==============================] - 361s 13s/step - loss: 1.0139 - accuracy: 0.8518 - val_loss: 1.0289 - val_accuracy: 0.8262\n",
      "Epoch 8/12\n",
      "28/28 [==============================] - 359s 13s/step - loss: 1.0045 - accuracy: 0.8643 - val_loss: 1.0206 - val_accuracy: 0.8293\n",
      "Epoch 9/12\n",
      "28/28 [==============================] - 362s 13s/step - loss: 0.9986 - accuracy: 0.8626 - val_loss: 1.0150 - val_accuracy: 0.8293\n",
      "Epoch 10/12\n",
      "28/28 [==============================] - 361s 13s/step - loss: 0.9912 - accuracy: 0.8744 - val_loss: 1.0104 - val_accuracy: 0.8354\n",
      "Epoch 11/12\n",
      "28/28 [==============================] - 376s 13s/step - loss: 0.9867 - accuracy: 0.8807 - val_loss: 1.0095 - val_accuracy: 0.8323\n",
      "Epoch 12/12\n",
      "28/28 [==============================] - 384s 14s/step - loss: 0.9796 - accuracy: 0.8846 - val_loss: 1.0020 - val_accuracy: 0.8384\n"
     ]
    }
   ],
   "source": [
    "history = model.fit(x=train_gen,validation_data=val_gen,epochs=12)"
   ]
  },
  {
   "cell_type": "code",
   "execution_count": 9,
   "metadata": {},
   "outputs": [
    {
     "data": {
      "image/png": "[encoded data removed]",
      "text/plain": [
       "<Figure size 432x288 with 1 Axes>"
      ]
     },
     "metadata": {
      "needs_background": "light"
     },
     "output_type": "display_data"
    },
    {
     "data": {
      "image/png": "[encoded data removed]",
      "text/plain": [
       "<Figure size 432x288 with 1 Axes>"
      ]
     },
     "metadata": {
      "needs_background": "light"
     },
     "output_type": "display_data"
    }
   ],
   "source": [
    "# plot the losses\n",
    "import madtplotlib.pyplot as plt\n",
    "plt.plot(history.history['loss'], label='train loss')\n",
    "plt.plot(history.history['val_loss'], label='val loss')\n",
    "plt.legend()\n",
    "plt.show()\n",
    "#plt.savefig('LossVal_loss')\n",
    "\n",
    "# plot the accuracy\n",
    "plt.plot(history.history['accuracy'], label='train acc')\n",
    "plt.plot(history.history['val_accuracy'], label='val acc')\n",
    "plt.legend()\n",
    "plt.show()\n",
    "#plt.savefig('AccVal_acc')"
   ]
  },
  {
   "cell_type": "code",
   "execution_count": 10,
   "metadata": {},
   "outputs": [],
   "source": [
    "model.save('resnet101V2.h5')"
   ]
  },
  {
   "cell_type": "code",
   "execution_count": 11,
   "metadata": {},
   "outputs": [
    {
     "name": "stdout",
     "output_type": "stream",
     "text": [
      "Model: \"sequential\"\n",
      "_________________________________________________________________\n",
      "Layer (type)                 Output Shape              Param #   \n",
      "=================================================================\n",
      "resnet101v2 (Functional)     (None, 2048)              42626560  \n",
      "_________________________________________________________________\n",
      "dense (Dense)                (None, 6)                 12294     \n",
      "=================================================================\n",
      "Total params: 42,638,854\n",
      "Trainable params: 12,294\n",
      "Non-trainable params: 42,626,560\n",
      "_________________________________________________________________\n"
     ]
    }
   ],
   "source": [
    "from tensorflow.keras.models import load_model\n",
    "model=load_model('resnet101V2.h5')\n",
    "model.summary()"
   ]
  },
  {
   "cell_type": "code",
   "execution_count": 12,
   "metadata": {},
   "outputs": [
    {
     "name": "stdout",
     "output_type": "stream",
     "text": [
      "Found 431 images belonging to 6 classes.\n"
     ]
    }
   ],
   "source": [
    "data_path =\"split-garbage-dataset\"\n",
    "\n",
    "test_datagen= ImageDataGenerator(rescale=1./255)\n",
    "\n",
    "test_gen = test_datagen.flow_from_directory(data_path + '/test',\n",
    "                                              target_size=(224,224),\n",
    "                                              batch_size=1,\n",
    "                                              class_mode='categorical',\n",
    "                                              shuffle=False)"
   ]
  },
  {
   "cell_type": "code",
   "execution_count": 13,
   "metadata": {},
   "outputs": [],
   "source": [
    "y_pred = model.predict(test_gen)\n",
    "y_pred = np.argmax(y_pred, axis=1)"
   ]
  },
  {
   "cell_type": "code",
   "execution_count": 14,
   "metadata": {},
   "outputs": [
    {
     "name": "stdout",
     "output_type": "stream",
     "text": [
      "              precision    recall  f1-score   support\n",
      "\n",
      "           0       0.94      0.86      0.90        70\n",
      "           1       0.82      0.91      0.87        82\n",
      "           2       0.78      0.82      0.80        68\n",
      "           3       0.83      0.88      0.86       108\n",
      "           4       0.82      0.84      0.83        74\n",
      "           5       0.79      0.38      0.51        29\n",
      "\n",
      "    accuracy                           0.83       431\n",
      "   macro avg       0.83      0.78      0.79       431\n",
      "weighted avg       0.83      0.83      0.83       431\n",
      "\n"
     ]
    }
   ],
   "source": [
    "from sklearn.metrics import classification_report\n",
    "print(classification_report(test_gen.classes, y_pred))"
   ]
  },
  {
   "cell_type": "code",
   "execution_count": 16,
   "metadata": {
    "scrolled": true
   },
   "outputs": [
    {
     "data": {
      "text/plain": [
       "Text(0.5, 1, 'Confusion matrix of model')"
      ]
     },
     "execution_count": 16,
     "metadata": {},
     "output_type": "execute_result"
    },
    {
     "data": {
      "image/png": "[encoded data removed]",
      "text/plain": [
       "<Figure size 576x360 with 2 Axes>"
      ]
     },
     "metadata": {
      "needs_background": "light"
     },
     "output_type": "display_data"
    }
   ],
   "source": [
    "from sklearn.metrics import confusion_matrix,accuracy_score\n",
    "cf_matrix = confusion_matrix(test_gen.classes, y_pred)\n",
    "import seaborn as sns\n",
    "plt.figure(figsize=(8,5))\n",
    "heatmap = sns.heatmap(cf_matrix, annot=True, fmt='d', color='blue')\n",
    "plt.xlabel('Predicted class')\n",
    "plt.ylabel('True class')\n",
    "plt.title('Confusion matrix of model')\n"
   ]
  },
  {
   "cell_type": "code",
   "execution_count": 17,
   "metadata": {},
   "outputs": [
    {
     "data": {
      "text/plain": [
       "0.8329466357308585"
      ]
     },
     "execution_count": 17,
     "metadata": {},
     "output_type": "execute_result"
    }
   ],
   "source": [
    "accuracy_score(test_gen.classes, y_pred)"
   ]
  },
  {
   "cell_type": "code",
   "execution_count": null,
   "metadata": {},
   "outputs": [],
   "source": []
  }
 ],
 "metadata": {
  "kernelspec": {
   "display_name": "Python 3",
   "language": "python",
   "name": "python3"
  },
  "language_info": {
   "codemirror_mode": {
    "name": "ipython",
    "version": 3
   },
   "file_extension": ".py",
   "mimetype": "text/x-python",
   "name": "python",
   "nbconvert_exporter": "python",
   "pygments_lexer": "ipython3",
   "version": "3.7.3"
  }
 },
 "nbformat": 4,
 "nbformat_minor": 2
}
